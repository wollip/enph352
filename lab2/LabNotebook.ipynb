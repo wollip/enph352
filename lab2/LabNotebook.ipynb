{
 "cells": [
  {
   "cell_type": "markdown",
   "metadata": {},
   "source": [
    "# Pre lab (Lock-In Amplifier on Superconductivity\n",
    "\n",
    "Feb 10. 2020 Jason Peng\n",
    "\n",
    "## Introduction\n",
    "\n",
    "Doing low temperature and small signal measurement is crucial to many fields of physics. In this lab we will work with a thermal diode and measuring its resitance through a 4 wire measuring scheme. The 4 wire measuring scheme is important for measuring same resistance and it allows you to ignore the resistance of th leads. In additional, a lock-in amplifier will be used as a way to filter out a signal of a particular frequency and see how the voltage changes at the frequency from due to superconductivity. It works by multiplying two signal together essentially being an analog fourier transform for specific frequency. In this experiement these methodology will be applied to measuring the changes in resistance of the thermal diode and of the magnetic field of YBCO.\n",
    "\n",
    "## Objective\n",
    "\n",
    "Measure the resistance of the thermal diode as it change in temperature to calibrate it. As the temperature change, measure the magnetic field of the YBCO as it affects the magnetic field of the coil around it. Observe the Messner Effect and measure the London penetration depth for when a material becomes superconductive at it $T_C$ temperature"
   ]
  },
  {
   "cell_type": "markdown",
   "metadata": {},
   "source": [
    "## Apparatus\n",
    "\n",
    "Dewer with Liquid Nitrogen to cool the apparatus. \n",
    "Outside of the dewer there is a magnetic coil to induce an external magnetic field\n",
    "Inside of the dewer there are two coils with opposite winding.\n",
    "One of the two coils will have YBCO in the center of the coil\n",
    "The external magnetic field will induce a magnetic field on the inside coils \n",
    "Each coil will have the opposite magnitude voltage due to the winding\n",
    "The difference in the voltage will be fed as signal into the lock-in\n",
    "The reference signal for the external magnetic field will be the reference of the lock-in\n",
    "There is a 4 wire measurement of the temperature diode inside the dewer\n",
    "There is a heating coil that will accelerate the proprocess of warming up the dewer\n",
    "\n",
    "## Background\n",
    "\n",
    "\n",
    "### Messner Effect\n",
    "\n",
    "When a material becomes a superconductor, the magnetic field inside of it gets expelled from its interior. At the surface of the superconductor the magnetic field decrease exponentially similar to skin depth with electric field and conductors. Similarly there is the London Pentration depth that quantifies the depth. In this lab we will the below values to calibrate and observe how $\\lambda_L$ changes with temperature.\n",
    "\n",
    "$$\\lambda_L(77K) = 300nm$$\n",
    "\n",
    "$$|V_{coil} - V_{coil}'| = C (1-\\frac{2\\lambda_t}{t})$$\n",
    "\n",
    "### 4 Wire Measurement \n",
    "\n",
    "A 4 wire measurement is a device that measures resistance. Here two wire supply a current through the device while two more measure the voltage. This way the resistance in the voltage wires are negated as there is no significant amount of current passing through them that results in a poor measure of voltage.\n",
    "\n",
    "$$ R = \\frac{V_{test}}{I_{test}}$$\n",
    "\n",
    "### Thermal Diode\n",
    "\n",
    "Thermal diode is a device that changes resistance with temperature. However, the change in resistance is quite small therefore a 4 wire measurement is used. It is also non-ohmic therefore a constant current bias is used. The measured voltage will have the form below\n",
    "\n",
    "$$ V = \\frac{n}{V_g 2e} - \\frac{n k_B}{2} (\\frac{5}{2} \\ln (T) - \\frac{\\ln(I_f)}{K})$$\n",
    "\n",
    "Where $n$ (1<n<~2.5) is known as 'nonideality factor'. $K$ depends on the details of the diode and $V_g$ is the band gap of the semiconductor.\n",
    "\n",
    "The Thermal Diode can be calibrated using room temperature and measurements at 77.4K\n",
    "\n",
    "### Lock-in measurement\n",
    "\n",
    "Here a input signal and an output signal is mixed together. A low pass filter is then used so that only the DC voltage remains. This process is similar to a fourier transform at a single frequency. In addition because a low pass filter is used, there is a time constant associated with it, therefore it is important to make sure measurements happen when it is at steady state."
   ]
  },
  {
   "cell_type": "markdown",
   "metadata": {},
   "source": [
    "## Questions"
   ]
  },
  {
   "cell_type": "code",
   "execution_count": null,
   "metadata": {},
   "outputs": [],
   "source": []
  }
 ],
 "metadata": {
  "kernelspec": {
   "display_name": "Python 3",
   "language": "python",
   "name": "python3"
  },
  "language_info": {
   "codemirror_mode": {
    "name": "ipython",
    "version": 3
   },
   "file_extension": ".py",
   "mimetype": "text/x-python",
   "name": "python",
   "nbconvert_exporter": "python",
   "pygments_lexer": "ipython3",
   "version": "3.7.1"
  }
 },
 "nbformat": 4,
 "nbformat_minor": 2
}
