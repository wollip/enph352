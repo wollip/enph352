{
 "cells": [
  {
   "cell_type": "markdown",
   "metadata": {},
   "source": [
    "# Pre lab (Lock-In Amplifier on Superconductivity\n",
    "\n",
    "Feb 10. 2020 Jason Peng\n",
    "\n",
    "## Introduction\n",
    "\n",
    "Doing low temperature and small signal measurement is crucial to many fields of physics. In this lab we will work with a thermal diode and measuring its resitance through a 4 wire measuring scheme. The 4 wire measuring scheme is important for measuring same resistance and it allows you to ignore the resistance of th leads. In additional, a lock-in amplifier will be used as a way to filter out a signal of a particular frequency and see how the voltage changes at the frequency from due to superconductivity. It works by multiplying two signal together essentially being an analog fourier transform for specific frequency. In this experiement these methodology will be applied to measuring the changes in resistance of the thermal diode and of the magnetic field of YBCO.\n",
    "\n",
    "## Objective\n",
    "\n",
    "Measure the resistance of the thermal diode as it change in temperature to calibrate it. As the temperature change, measure the magnetic field of the YBCO as it affects the magnetic field of the coil around it. Observe the Messner Effect for when a material becomes superconductive at it $T_C$ temperature"
   ]
  },
  {
   "cell_type": "markdown",
   "metadata": {},
   "source": [
    "## Background\n",
    "\n",
    "\n",
    "### Messner Effect\n",
    "\n",
    "Change in magnetic field\n",
    "\n",
    "### 4 Wire Measurement\n",
    "\n",
    "Thermal diode\n",
    "\n",
    "### Lock-in measurement\n",
    "\n",
    "Phase"
   ]
  },
  {
   "cell_type": "markdown",
   "metadata": {},
   "source": [
    "## Questions"
   ]
  },
  {
   "cell_type": "code",
   "execution_count": null,
   "metadata": {},
   "outputs": [],
   "source": []
  }
 ],
 "metadata": {
  "kernelspec": {
   "display_name": "Python 3",
   "language": "python",
   "name": "python3"
  },
  "language_info": {
   "codemirror_mode": {
    "name": "ipython",
    "version": 3
   },
   "file_extension": ".py",
   "mimetype": "text/x-python",
   "name": "python",
   "nbconvert_exporter": "python",
   "pygments_lexer": "ipython3",
   "version": "3.7.4"
  }
 },
 "nbformat": 4,
 "nbformat_minor": 2
}
