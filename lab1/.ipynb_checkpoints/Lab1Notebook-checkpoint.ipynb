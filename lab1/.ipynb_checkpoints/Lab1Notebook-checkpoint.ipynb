{
 "cells": [
  {
   "cell_type": "code",
   "execution_count": 1,
   "metadata": {},
   "outputs": [],
   "source": [
    "import numpy as np\n",
    "import matplotlib.pyplot as plt"
   ]
  },
  {
   "cell_type": "code",
   "execution_count": 2,
   "metadata": {},
   "outputs": [],
   "source": [
    "q_e = 1.60217662e-19     # Elementary Charge (coulomb)\n",
    "m_e = 9.10938356e-31     # Electron Mass (kg)\n",
    "c = 299792458            # Speed of light (m)\n",
    "pi = np.pi               # Math constant Pi\n",
    "eps_o = 8.8541878128e-12 # Permittivity of free space (m^-3 kg^-1 s^4 A^2)\n",
    "\n"
   ]
  },
  {
   "cell_type": "markdown",
   "metadata": {},
   "source": [
    "# Gamma Ray Spectroscopy\n",
    "\n",
    "Janurary 13, 2020 (Pre Week 1) Jason Peng\n",
    "\n",
    "## Introduction\n",
    "\n",
    "Measuring the energy of particles is crucial to many physics experiements. This is usually done by looking at the interaction of the particles with a medium that is well understood. A common apparatus used is a scintillator, which can convert gamma radiation to lower-energy photons, which can be easily detected by phototubes. Phototubes can then covert the low energy photons into electrical signals that are easier to process. \n",
    "\n",
    "Scintillator : a material that fluoresces when struck by a charged particle or high-energy photon. (Google definitions)\n",
    "\n",
    "<figure>\n",
    "    <img  src=\"images/phototube.gif\" alt=\"phototube\" width=\"200\">\n",
    "    <center><figcaption>Phototube taken from <a href=\"https://kids.britannica.com/students/article/photoelectric-device/276409/286736-toc\">here</a></figcaption></center>\n",
    "</figure>\n",
    "\n",
    "\n",
    "## Objective\n",
    "\n",
    "To use known sources of gamma ray energies (from $^{137}\\text{Cs, }^{109}\\text{Cd, }^{60}\\text{Co}$) to calibrate our detection system and to determine the energies of unknown sources ($^{54}\\text{Mn, }^{22}\\text{Na, }^{133}\\text{Ba}$). The calibration will be done through identifying the photopeak of each spectrum, and understanding of the underlying physics (photoelectric effect, compton scattering, electron-positron pair production)"
   ]
  },
  {
   "cell_type": "markdown",
   "metadata": {},
   "source": [
    "## Background\n",
    "\n",
    "Gamma rays from the source will hit the scintillator to be coverted to low energy photons. The photons will be collected by the phototube and converted to electric current. The overall effciency for converting gamma ray energy to electric current is on the order of 0.15%. Each gamma ray will therefore produce an electrical pulse of amplitude proportional the to the energy absorbed by the detectors. Below are some processes of gamma ray conversion that results in different energy absorbed.\n",
    "\n",
    "Here photopeak will refer to amplitude created when all of the energy is absorbed. "
   ]
  },
  {
   "cell_type": "code",
   "execution_count": 3,
   "metadata": {},
   "outputs": [],
   "source": [
    "r_o = 1/(4*pi*eps_o) * q_e**2/(m_e*c**2)     # Classical radius of Electron (m)\n",
    "sigma_T = (8*pi/3) * (q_e**2/(m_e*c**2))**2  # \n",
    "e_rest = m_e*c**2                          # Electron rest mass (eV c^-2) "
   ]
  },
  {
   "cell_type": "markdown",
   "metadata": {},
   "source": [
    "### Photoelectric effect\n",
    "\n",
    "Photon is completely absorbed. This process will create a spike at the photopeak."
   ]
  },
  {
   "cell_type": "code",
   "execution_count": 4,
   "metadata": {},
   "outputs": [],
   "source": [
    "Z = 11 # Atomic number of Sodium \n",
    "sigma_p = lambda e_gamma : (sigma_T * Z**5/137**5) * 8**(1/2) * (e_gamma/ e_rest)**(-7/2) \n",
    "sigma_p2 = lambda gamma : (sigma_T * Z**5/137**5) * 8**(1/2) * (gamma)**(-7/2) \n"
   ]
  },
  {
   "cell_type": "code",
   "execution_count": 5,
   "metadata": {},
   "outputs": [
    {
     "data": {
      "text/plain": [
       "[<matplotlib.lines.Line2D at 0x7fa78ba7f1d0>]"
      ]
     },
     "execution_count": 5,
     "metadata": {},
     "output_type": "execute_result"
    },
    {
     "data": {
      "image/png": "[encoded data removed]",
      "text/plain": [
       "<Figure size 432x288 with 1 Axes>"
      ]
     },
     "metadata": {
      "needs_background": "light"
     },
     "output_type": "display_data"
    }
   ],
   "source": [
    "xs = np.logspace(-1, 2)\n",
    "plt.semilogx(xs, sigma_p2(xs))"
   ]
  },
  {
   "cell_type": "markdown",
   "metadata": {},
   "source": [
    "### Compton effect\n",
    "\n",
    "Photon bounces off and only transfer part of the energy. The photon could eventually leave the scintillator with some energy, so this process will sometimes be less than the photospeak"
   ]
  },
  {
   "cell_type": "code",
   "execution_count": 6,
   "metadata": {},
   "outputs": [],
   "source": [
    "def sigma_c2(gamma):\n",
    "    gamma = np.array(gamma)\n",
    "    large_gamma = gamma > 1\n",
    "    small_gamma = ~large_gamma\n",
    "    \n",
    "    output = np.zeros_like(gamma)\n",
    "    output[small_gamma] = sigma_T * ( 1 - 2*gamma[small_gamma] + 26/5*gamma[small_gamma]**2)\n",
    "    output[large_gamma] = 3/8 * sigma_T * 1/gamma[large_gamma] * (np.log(2*gamma[large_gamma])-1/2)\n",
    "    \n",
    "    return output\n",
    "\n",
    "def sigma_c(e_gamma):\n",
    "    return sigma_c2(e_gamma / e_rest)"
   ]
  },
  {
   "cell_type": "code",
   "execution_count": 7,
   "metadata": {
    "scrolled": true
   },
   "outputs": [
    {
     "data": {
      "text/plain": [
       "[<matplotlib.lines.Line2D at 0x7fa78b6380b8>]"
      ]
     },
     "execution_count": 7,
     "metadata": {},
     "output_type": "execute_result"
    },
    {
     "data": {
      "image/png": "[encoded data removed]",
      "text/plain": [
       "<Figure size 432x288 with 1 Axes>"
      ]
     },
     "metadata": {
      "needs_background": "light"
     },
     "output_type": "display_data"
    }
   ],
   "source": [
    "plt.semilogx(xs, sigma_c2(xs))"
   ]
  },
  {
   "cell_type": "markdown",
   "metadata": {},
   "source": [
    "### Electron-Positron Pair Production\n",
    "\n",
    "Some energy goes into excitation of electrons, the rest is converted to two gamma rays each with 0.511MeV. Depending on whether the gamma rays is absorbed, the signal could be at the photopeak, 0.511 MeV or 1.022Mev less than the photopeak."
   ]
  },
  {
   "cell_type": "code",
   "execution_count": 8,
   "metadata": {},
   "outputs": [
    {
     "name": "stdout",
     "output_type": "stream",
     "text": [
      "9.570838379872431e-29\n"
     ]
    }
   ],
   "source": [
    "sigma_pair = Z**2/137 * r_o**2 * (28/9 * np.log(183/Z**(1/3)) - 2/27) # Only if gamma ~ 1000\n",
    "print(sigma_pair)"
   ]
  },
  {
   "cell_type": "markdown",
   "metadata": {},
   "source": [
    "### Backscatter\n",
    "\n",
    "Photon pass through the detector, but bounce of the enclosure and back into the detector. "
   ]
  },
  {
   "cell_type": "markdown",
   "metadata": {},
   "source": [
    "### Emission of positrons\n",
    "\n",
    "The positron of energy 0.511MeV is created by beta decay of the source. The positron could annihilate with an electron in the detector or the original source.\n"
   ]
  },
  {
   "cell_type": "markdown",
   "metadata": {},
   "source": [
    "## Questions\n",
    "\n",
    "* With regards to the Compton scattering process. The corresponding spectrum is continuous, and is characterized by a high-energy edge. Why?\n",
    "    * Perhaps something to do with the photoelectric work function?\n",
    "* With regards to backscattering. What sort of spectrum would you expect from such events?\n",
    "    * A fix amount of energy radiated back by the enclosure, assuming the energy that bounced back is completely absorbed, this will create a secondary peak. \n",
    "* With regards to emission of positrons by the source. What features would you expect these events to produce in the final spectra?\n",
    "    * if the positron is absorbed by the source, then nothing is detected. If the positron is absorbed by the detector, then an electron is lost. Perhaps, a negative pulse will be detected."
   ]
  },
  {
   "cell_type": "markdown",
   "metadata": {},
   "source": [
    "## Procedure\n",
    "\n",
    "Copied from the Lab Manual\n",
    "\n",
    "1. The power supply voltage should be at 1300 V. Adjust the amplifier gain such that the 60Co source gives a maximum signal that is not off-scale (if the spectrum goes off the right side of the screen you need to turn down the gain). Check your signals with an oscilloscope and familiarize yourself with the Personal Computer Analyzer software.\n",
    "2. Record spectra from the 137Cs, 109Cd, and 60Co sources. Using the known energies for the gamma rays emitted from these sources (chart on the west wall of the laboratory or a reference), generate a calibration curve for the gamma ray energy in terms of the channel number.\n",
    "3. With this calibration, determine the energies of peaks observed in the 54Mn, 22Na and 133Ba spectra, and compare with their expected values. \n",
    "4. For all of the spectra, identify as many of the features as possible. You will need to determine and use the relationship between the energies of the Compton edge, photopeak and backscatter peak. Report the width of each photopeak.\n",
    "5. For the 137Cs source, determine the efficiency of this detection system. You will need to record the date and initial activity of the source."
   ]
  },
  {
   "cell_type": "markdown",
   "metadata": {},
   "source": [
    "### Addition notes on Procedure"
   ]
  },
  {
   "cell_type": "markdown",
   "metadata": {},
   "source": [
    "## Analysis"
   ]
  },
  {
   "cell_type": "markdown",
   "metadata": {},
   "source": [
    "## Results"
   ]
  },
  {
   "cell_type": "markdown",
   "metadata": {},
   "source": [
    "## Conclusion"
   ]
  },
  {
   "cell_type": "code",
   "execution_count": null,
   "metadata": {},
   "outputs": [],
   "source": []
  }
 ],
 "metadata": {
  "kernelspec": {
   "display_name": "Python 3",
   "language": "python",
   "name": "python3"
  },
  "language_info": {
   "codemirror_mode": {
    "name": "ipython",
    "version": 3
   },
   "file_extension": ".py",
   "mimetype": "text/x-python",
   "name": "python",
   "nbconvert_exporter": "python",
   "pygments_lexer": "ipython3",
   "version": "3.7.1"
  }
 },
 "nbformat": 4,
 "nbformat_minor": 2
}
