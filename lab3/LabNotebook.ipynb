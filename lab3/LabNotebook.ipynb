{
 "cells": [
  {
   "cell_type": "markdown",
   "metadata": {},
   "source": [
    "# Water Wave \n",
    "\n",
    "# Pre lab\n",
    "\n",
    "March 10. 2020\n",
    "\n",
    "## Introduction\n",
    "\n",
    "Water is a different type of wave compared to light. It can also have frequencies low enough for the eye to see in comparison to light. Hence we want to learn about how wave of matter behave.\n",
    "\n",
    "## Objective\n",
    "\n",
    "To measure the dispersive properties of the wave. (phase velocity and group velocity)\n",
    "\n",
    "## Apparatus\n",
    "\n",
    "A rectangular container filled with water. One side of the the container has a paddle to create an initial impluse. Two QRD sensors are used to measure the height of the water at their locations.\n",
    "\n",
    "## Background\n",
    "\n",
    "\n",
    "\n",
    "## Question\n",
    "\n",
    "## Procedures"
   ]
  },
  {
   "cell_type": "markdown",
   "metadata": {},
   "source": [
    "# Week 1\n",
    "\n",
    "Took the first set of data, below is a list of observations in no particular order\n",
    "\n",
    "* The ground has less vibration than the table so the experiement is done on the ground for the most accuracy\n",
    "* The paddle is barely long enough to hit 1cm wave.\n",
    "* The leveling between the table, the sink and the floor is off\n",
    "    * Height of water on oneside change\n",
    "    * Height of water is determined by the right side marking on the tank at the sink\n",
    "* The length is actually 49.5cm\n",
    "* The width is actually 4.9cm\n",
    "* DAQ has a delay. So make sure to not trigger the waves too early.\n",
    "\n",
    "The data can be found at `data/week1/*`\n"
   ]
  },
  {
   "cell_type": "code",
   "execution_count": null,
   "metadata": {},
   "outputs": [],
   "source": []
  }
 ],
 "metadata": {
  "kernelspec": {
   "display_name": "Python 3",
   "language": "python",
   "name": "python3"
  },
  "language_info": {
   "codemirror_mode": {
    "name": "ipython",
    "version": 3
   },
   "file_extension": ".py",
   "mimetype": "text/x-python",
   "name": "python",
   "nbconvert_exporter": "python",
   "pygments_lexer": "ipython3",
   "version": "3.7.4"
  }
 },
 "nbformat": 4,
 "nbformat_minor": 2
}
